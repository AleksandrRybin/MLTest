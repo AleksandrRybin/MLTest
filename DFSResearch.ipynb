{
 "cells": [
  {
   "cell_type": "markdown",
   "metadata": {},
   "source": [
    "# Deep Feature Selection"
   ]
  },
  {
   "cell_type": "markdown",
   "metadata": {},
   "source": [
    "## Предсказание рака по данным масс-спектромии"
   ]
  },
  {
   "cell_type": "markdown",
   "metadata": {},
   "source": [
    "- Описание метода [Deep Feature Selection: Theory and Applicationto Identify Enhancers and Promoters](https://pdfs.semanticscholar.org/ac2a/c075773cc936a206c3ebb2339376d586bcbd.pdf)\n",
    "\n",
    "- Источник данных [OpenML](https://www.openml.org/d/1458)"
   ]
  },
  {
   "cell_type": "code",
   "execution_count": 1,
   "metadata": {},
   "outputs": [],
   "source": [
    "%matplotlib inline\n",
    "\n",
    "import functools\n",
    "\n",
    "import torch\n",
    "from torch import nn\n",
    "from torch.nn import functional as F\n",
    "from torch.utils import data as torch_data_utils\n",
    "\n",
    "import sklearn as sk\n",
    "from sklearn import metrics\n",
    "from sklearn import utils\n",
    "from sklearn import model_selection\n",
    "from sklearn import feature_selection\n",
    "from sklearn import linear_model\n",
    "from sklearn import ensemble\n",
    "from sklearn import svm\n",
    "from sklearn import neighbors\n",
    "from sklearn import preprocessing\n",
    "\n",
    "import numpy as np\n",
    "import pandas as pd\n",
    "\n",
    "from matplotlib import pyplot as plt"
   ]
  },
  {
   "cell_type": "markdown",
   "metadata": {},
   "source": [
    "### Гиперпараметры эксперимента"
   ]
  },
  {
   "cell_type": "code",
   "execution_count": 2,
   "metadata": {},
   "outputs": [],
   "source": [
    "# Для воспроизводимости эксперимента\n",
    "g_random_state = 0\n",
    "torch.manual_seed(g_random_state)\n",
    "\n",
    "# параметры обучающей выборки\n",
    "g_num_features = 10000  # исходное число признаков\n",
    "g_num_classes = 2       # число классов\n",
    "g_class_labels = (0, 1) # метки классов\n",
    "\n",
    "# Метрика качества - F мера с beta=g_fscore_beta\n",
    "g_fscore_beta = 1.5\n",
    "fbeta_cv_metric = metrics.make_scorer(functools.partial(metrics.fbeta_score, beta=g_fscore_beta))\n",
    "\n",
    "# параметры обучения модели DFS\n",
    "g_dfs_num_epochs      = 600\n",
    "g_dfs_lr              = 5e-2\n",
    "g_dfs_lr_patience     = 35\n",
    "g_dfs_lr_cooldown     = 15\n",
    "g_dfs_lr_decay_factor = 0.1\n",
    "\n",
    "# Коэффиценты регуляризации DFS\n",
    "g_dfs_lambda_1 = 8.5e-2\n",
    "g_dfs_lambda_2 = 0.95\n",
    "g_dfs_alpha_1  = 5e-3\n",
    "g_dfs_alpha_2  = 0.05"
   ]
  },
  {
   "cell_type": "markdown",
   "metadata": {},
   "source": [
    "Необходимые библиотеки **PyTorch**, **Scikit-learn**, **NumPy**, **Pandas** и **Matplotlib**"
   ]
  },
  {
   "cell_type": "markdown",
   "metadata": {},
   "source": [
    "Определим модель *DFS*. Модель принимает на вход тензор *(batch_size, g_num_features)*, а возвращает тензор размерности *(batch_size, g_num_classes)*.\n",
    "\n",
    "После того как модель будет обучена *коэффиценты* слоя ***w*** будут показывать важность признаков и если их отсортировать по убыванию, то можно выбрать из *num_features* признаков первые ***k*** штук, которые будут самыми важными.\n",
    "\n",
    "Таким образом с помощью обученной модели можно проводить отбор признаков."
   ]
  },
  {
   "cell_type": "code",
   "execution_count": 3,
   "metadata": {},
   "outputs": [],
   "source": [
    "class DeepDFS(nn.Module):\n",
    "    def __init__(self):\n",
    "        super(DeepDFS, self).__init__()\n",
    "        \n",
    "        self.w = nn.Parameter(torch.empty(g_num_features))\n",
    "        nn.init.uniform_(self.w, a=0, b=1)\n",
    "        \n",
    "        self.W1 = nn.Linear(in_features=g_num_features, out_features=1000)\n",
    "        self.W2 = nn.Linear(in_features=1000, out_features=100)\n",
    "        self.W3 = nn.Linear(in_features=100, out_features=g_num_classes)\n",
    "    \n",
    "    def forward(self, x):\n",
    "        result = torch.mul(self.w, x)\n",
    "        \n",
    "        result = torch.tanh(self.W1(result))\n",
    "        result = torch.tanh(self.W2(result))\n",
    "        result = self.W3(result)\n",
    "        \n",
    "        return result"
   ]
  },
  {
   "cell_type": "markdown",
   "metadata": {},
   "source": [
    "Для удобства обучения модели *PyTorch* определим вспомогательный класс обучающей выборки"
   ]
  },
  {
   "cell_type": "code",
   "execution_count": 4,
   "metadata": {},
   "outputs": [],
   "source": [
    "class DFSExperimentDataSet(torch_data_utils.Dataset):\n",
    "    def __init__(self, data, labels):        \n",
    "        self.data = torch.tensor(data, dtype=torch.float)\n",
    "        self.labels = torch.tensor(labels, dtype=torch.long)\n",
    "        \n",
    "        self.length = self.data.shape[0]\n",
    "        \n",
    "    def __len__(self):\n",
    "        return self.length\n",
    "    \n",
    "    def __getitem__(self, idx):\n",
    "        feature = self.data[idx]\n",
    "        label = self.labels[idx]\n",
    "        \n",
    "        return feature, label\n",
    "    \n",
    "    def get_labels(self):\n",
    "        return self.labels"
   ]
  },
  {
   "cell_type": "markdown",
   "metadata": {},
   "source": [
    "Одно из отличий **DFS** в *функции ошибки*, т.к. используется *ElasticNet* регуляризация. Определим функцию ошибки для обучения модели."
   ]
  },
  {
   "cell_type": "code",
   "execution_count": 5,
   "metadata": {},
   "outputs": [],
   "source": [
    "def DFSLoss(outputs, labels, model, class_weights=None):\n",
    "    l = F.cross_entropy(outputs, labels, reduction='sum', weight=class_weights)\n",
    "    \n",
    "    l1_w = g_dfs_lambda_2 * torch.norm(model.w, 1)\n",
    "    l2_w = ((1 - g_dfs_lambda_2) / 2) * torch.pow(torch.norm(model.w, 2), 2)\n",
    "    \n",
    "    l1_W = g_dfs_alpha_2 * (\n",
    "        torch.norm(model.W1.weight, 1) + \\\n",
    "        torch.norm(model.W2.weight, 1) + \\\n",
    "        torch.norm(model.W3.weight, 1)\n",
    "    )\n",
    "    \n",
    "    l2_W = ((1 - g_dfs_alpha_2) / 2) * (\n",
    "        torch.pow(torch.norm(model.W1.weight, p='fro'), 2) + \\\n",
    "        torch.pow(torch.norm(model.W2.weight, p='fro'), 2) + \\\n",
    "        torch.pow(torch.norm(model.W3.weight, p='fro'), 2)\n",
    "    )\n",
    "    \n",
    "    return l + g_dfs_lambda_1 * (l1_w + l2_w) + g_dfs_alpha_1 * (l1_W + l2_W)"
   ]
  },
  {
   "cell_type": "markdown",
   "metadata": {},
   "source": [
    "Далее следует тренировка модели"
   ]
  },
  {
   "cell_type": "code",
   "execution_count": 6,
   "metadata": {},
   "outputs": [],
   "source": [
    "DFSModel = DeepDFS()\n",
    "\n",
    "raw_data = pd.read_csv('data/phpt8tg99.csv')\n",
    "X, y = raw_data.iloc[:, :-1].values, raw_data.iloc[:, -1].replace({1: 0, 2: 1}).values\n",
    "\n",
    "X_train, X_test, y_train, y_test = model_selection.train_test_split(X, y,\n",
    "                                                                    test_size=0.3, shuffle=True, stratify=y,\n",
    "                                                                    random_state=g_random_state)\n",
    "\n",
    "class_weights = utils.class_weight.compute_class_weight('balanced', g_class_labels, y_train)\n",
    "class_weights_tensor = torch.tensor(class_weights, dtype=torch.float)\n",
    "\n",
    "# X_train, y_train - признаки и метки классов для обучения\n",
    "# X_valid, y_valid - признаки и метки классов для валидации\n",
    "X_train, X_valid, y_train, y_valid = model_selection.train_test_split(X_train, y_train,\n",
    "                                                                      test_size=0.1, shuffle=True, stratify=y_train,\n",
    "                                                                      random_state=g_random_state)\n",
    "\n",
    "scaler  = preprocessing.StandardScaler(copy=False)\n",
    "X_train = scaler.fit_transform(X_train)\n",
    "X_valid = scaler.transform(X_valid)\n",
    "X_test  = scaler.transform(X_test)\n",
    "\n",
    "dfs_train_data_set = DFSExperimentDataSet(X_train, y_train)\n",
    "dfs_valid_data_set = DFSExperimentDataSet(X_valid, y_valid)\n",
    "\n",
    "dfs_train_loader = torch_data_utils.DataLoader(dfs_train_data_set, batch_size=12, shuffle=True)\n",
    "dfs_valid_loader = torch_data_utils.DataLoader(dfs_valid_data_set, batch_size=1, shuffle=False)\n",
    "\n",
    "dfs_optimizer = torch.optim.Adam(DFSModel.parameters(), lr=g_dfs_lr)\n",
    "dfs_lr_sheduler = torch.optim.lr_scheduler.ReduceLROnPlateau(dfs_optimizer, mode='max', \n",
    "                                                             factor=g_dfs_lr_decay_factor,\n",
    "                                                             patience=g_dfs_lr_patience,\n",
    "                                                             cooldown=g_dfs_lr_cooldown)"
   ]
  },
  {
   "cell_type": "code",
   "execution_count": 7,
   "metadata": {},
   "outputs": [
    {
     "name": "stdout",
     "output_type": "stream",
     "text": [
      "Finish. best f1 score 0.8124999999999999 and loss 870.2622680664062 on epoch 23\n",
      "Wall time: 1h 7min 27s\n"
     ]
    },
    {
     "data": {
      "text/plain": [
       "DeepDFS(\n",
       "  (W1): Linear(in_features=10000, out_features=1000, bias=True)\n",
       "  (W2): Linear(in_features=1000, out_features=100, bias=True)\n",
       "  (W3): Linear(in_features=100, out_features=2, bias=True)\n",
       ")"
      ]
     },
     "execution_count": 7,
     "metadata": {},
     "output_type": "execute_result"
    }
   ],
   "source": [
    "%%time\n",
    "\n",
    "max_dfs_accuracy = 0.0 # лучшая точность\n",
    "min_dfs_loss = float('inf') # минимальные потери\n",
    "\n",
    "best_dfs_epoch = 0 # лучшая эпоха\n",
    "best_dfs_sd = DFSModel.state_dict() # веса модели для лучшей эпохи\n",
    "\n",
    "for epoch in range(g_dfs_num_epochs):\n",
    "    total_loss = 0.0\n",
    "    for data in dfs_train_loader:\n",
    "        inputs, labels = data\n",
    "        outputs = DFSModel(inputs)\n",
    "                \n",
    "        dfs_optimizer.zero_grad()\n",
    "        loss = DFSLoss(outputs, labels, DFSModel, class_weights_tensor)\n",
    "        loss.backward()\n",
    "        dfs_optimizer.step()\n",
    "        \n",
    "        total_loss += loss\n",
    "    \n",
    "    # Валидация\n",
    "    correct = []\n",
    "    predicted = []\n",
    "    DFSModel.eval()\n",
    "    with torch.no_grad():\n",
    "        for data in dfs_valid_loader:\n",
    "            inputs, labels = data\n",
    "            outputs = DFSModel(inputs)\n",
    "            predicted += torch.argmax(outputs, dim=1).tolist()\n",
    "            correct += labels.tolist()\n",
    "\n",
    "    accuracy = metrics.fbeta_score(correct, predicted, beta=g_fscore_beta)\n",
    "    \n",
    "    if accuracy > max_dfs_accuracy or \\\n",
    "    (accuracy == max_dfs_accuracy and total_loss < min_dfs_loss):\n",
    "        max_dfs_accuracy = accuracy\n",
    "        min_dfs_loss = total_loss\n",
    "        \n",
    "        best_dfs_epoch = epoch + 1\n",
    "        best_dfs_sd = DFSModel.state_dict()\n",
    "            \n",
    "    dfs_lr_sheduler.step(accuracy)\n",
    "    \n",
    "    DFSModel.train()\n",
    "    \n",
    "print(f'Finish. best f1 score {max_dfs_accuracy} and loss {min_dfs_loss} on epoch {best_dfs_epoch}')\n",
    "\n",
    "DFSModel.load_state_dict(best_dfs_sd)\n",
    "DFSModel.eval()"
   ]
  },
  {
   "cell_type": "code",
   "execution_count": 8,
   "metadata": {},
   "outputs": [],
   "source": [
    "# сохраение модели\n",
    "torch.save(best_dfs_sd, 'results/DFSModel_state_dict.pt')"
   ]
  },
  {
   "cell_type": "markdown",
   "metadata": {},
   "source": [
    "Отсортируем по *убыванию* **абсолютные** значения слоя ***w***"
   ]
  },
  {
   "cell_type": "code",
   "execution_count": 9,
   "metadata": {},
   "outputs": [],
   "source": [
    "dfs_importance_features = [(abs(val), idx[0]) for idx, val in np.ndenumerate(DFSModel.w.data.numpy())]\n",
    "dfs_importance_features.sort(key=lambda x: x[0], reverse=True)"
   ]
  },
  {
   "cell_type": "markdown",
   "metadata": {},
   "source": [
    "Просмотрим *5* первых и последних по важности признаков.\n",
    "\n",
    "- Первый элемент - относительная важность\n",
    "- Второй элемент - индекс признака"
   ]
  },
  {
   "cell_type": "code",
   "execution_count": 10,
   "metadata": {},
   "outputs": [
    {
     "name": "stdout",
     "output_type": "stream",
     "text": [
      "[(3.676146, 4803), (2.3436923, 9723), (2.0569367, 4325), (2.0350964, 2142), (2.0003052, 6492)]\n",
      "[(6.7085226e-14, 2373), (6.566969e-14, 6507), (6.51007e-14, 8276), (6.1006755e-14, 3278)]\n"
     ]
    }
   ],
   "source": [
    "print(dfs_importance_features[:5])\n",
    "print(dfs_importance_features[-5:-1])"
   ]
  },
  {
   "cell_type": "markdown",
   "metadata": {},
   "source": [
    "Т.к. значения весов не важны оставим только соответствующие индексы признаков"
   ]
  },
  {
   "cell_type": "code",
   "execution_count": 11,
   "metadata": {},
   "outputs": [],
   "source": [
    "dfs_importance_features = [feature[1] for feature in dfs_importance_features]"
   ]
  },
  {
   "cell_type": "markdown",
   "metadata": {},
   "source": [
    "В качестве моделей выбора признаков для сравнения будем использовать традиционный *LASSO* и *RandomForest*.\n",
    "Подберём гиперпараметры для данных моделей и выберем лучшие по кросс-валидации."
   ]
  },
  {
   "cell_type": "markdown",
   "metadata": {},
   "source": [
    "Обучение модели *LASSO*"
   ]
  },
  {
   "cell_type": "code",
   "execution_count": 12,
   "metadata": {},
   "outputs": [],
   "source": [
    "lasso_param_grid = {\n",
    "    'C': [10, 1.0, 0.7, 0.5, 0.3, 1e-2, 1e-3, 1e-4]\n",
    "}\n",
    "\n",
    "lasso_gs = model_selection.GridSearchCV(linear_model.LogisticRegression(class_weight='balanced', penalty='l1', \n",
    "                                                                        solver='liblinear', random_state=g_random_state),\n",
    "                                        lasso_param_grid, scoring=fbeta_cv_metric,\n",
    "                                        cv=3, n_jobs=-1, verbose=0, iid=True)\n",
    "lasso_gs.fit(X_train, y_train)\n",
    "\n",
    "# LASSO модель для отбора признаков\n",
    "best_lasso_select = lasso_gs.best_estimator_"
   ]
  },
  {
   "cell_type": "markdown",
   "metadata": {},
   "source": [
    "Обучение модели *Random Forest*"
   ]
  },
  {
   "cell_type": "code",
   "execution_count": 13,
   "metadata": {},
   "outputs": [],
   "source": [
    "rf_param_grid = {\n",
    "    'n_estimators' : [25, 50, 150, 500],\n",
    "    'criterion' : ['gini', 'entropy'],\n",
    "    'max_depth' : [5, 10, 25]\n",
    "}\n",
    "\n",
    "rf_gs = model_selection.GridSearchCV(ensemble.RandomForestClassifier(class_weight='balanced', random_state=g_random_state),\n",
    "                                      rf_param_grid, scoring=fbeta_cv_metric,\n",
    "                                      cv=3, n_jobs=-1, verbose=0, iid=True)\n",
    "rf_gs.fit(X_train, y_train)\n",
    "\n",
    "# RandomForest модель для отбора признаков\n",
    "best_rf_select = rf_gs.best_estimator_"
   ]
  },
  {
   "cell_type": "markdown",
   "metadata": {},
   "source": [
    "Теперь будем перебирать различное количество признаков.\n",
    "\n",
    "1. Далее выбираем *k* признаков с помощью *LASSO*, *RF* и *DFS* обученных ранее.\n",
    "2. На выбранных признаках обучаем *kNN* и *SVM* с оптимальными гиперпараметрыми.\n",
    "3. Оцениваем качество на отложенной выборке.\n",
    "\n",
    "В итоге строим график для каждой из финальных моделей с разными методами отбора и вычисляем максимальную точность для финальной модели и метода отбора."
   ]
  },
  {
   "cell_type": "code",
   "execution_count": 14,
   "metadata": {},
   "outputs": [],
   "source": [
    "# перебираемые количества признаков\n",
    "num_selected_features = (1, 3, 5, 7, 10, 20, 30, 40, 50, 60, 70, 80, 90, \n",
    "                         100, 120, 150, 170, 200, 250, 300, 350, 400, 450, 500, 550, 600, 650, 700, 750, 800, 850, 900, 1000, \n",
    "                         1100, 1300, 1500, 2000, 3000, 5000, g_num_features)\n",
    "\n",
    "# Результаты соотвественно для KNN и SVM\n",
    "# для каждой модели результаты по трём моделям отбора соответственно DFS, RandomForest, LASSO\n",
    "knn_result = {'dfs' : [], 'rf' : [], 'lasso': []}\n",
    "svc_result = {'dfs' : [], 'rf' : [], 'lasso': []}\n",
    "\n",
    "for num in num_selected_features:\n",
    "    # Отбор признаков DFS\n",
    "    X_dfs_train = X_train[:, dfs_importance_features[:num]]\n",
    "    X_dfs_test = X_test[:, dfs_importance_features[:num]]\n",
    "    \n",
    "    # Отбор признаков RandomForest\n",
    "    X_rf_train = feature_selection.SelectFromModel(best_rf_select, max_features=num,\n",
    "                                                   threshold=-np.inf, prefit=True).transform(X_train)\n",
    "    X_rf_test = feature_selection.SelectFromModel(best_rf_select, max_features=num,\n",
    "                                                  threshold=-np.inf, prefit=True).transform(X_test)\n",
    "    \n",
    "    # Отбор признаков LASSO\n",
    "    X_lasso_train = feature_selection.SelectFromModel(best_lasso_select, max_features=num,\n",
    "                                                      threshold=-np.inf, prefit=True).transform(X_train)\n",
    "    X_lasso_test = feature_selection.SelectFromModel(best_lasso_select, max_features=num,\n",
    "                                                     threshold=-np.inf, prefit=True).transform(X_test)\n",
    "    \n",
    "    knn_param_grid = {\n",
    "        'n_neighbors' : [1, 2, 3, 5, 10],\n",
    "        'weights': ['uniform', 'distance'],\n",
    "        'p': [1, 2]\n",
    "    }\n",
    "\n",
    "    knn_gs = model_selection.GridSearchCV(neighbors.KNeighborsClassifier(), \n",
    "                                          knn_param_grid, scoring=fbeta_cv_metric, \n",
    "                                          cv=3, n_jobs=-1, verbose=0, iid=True)\n",
    "    \n",
    "    # Обучение на признаках отобранных DFS\n",
    "    knn_gs.fit(X_dfs_train, y_train)\n",
    "    knn_result['dfs'].append(metrics.fbeta_score(y_test, knn_gs.predict(X_dfs_test), beta=g_fscore_beta))\n",
    "    \n",
    "    # Обучение на признаках отобранных RandomForest\n",
    "    knn_gs.fit(X_rf_train, y_train)\n",
    "    knn_result['rf'].append(metrics.fbeta_score(y_test, knn_gs.predict(X_rf_test), beta=g_fscore_beta))\n",
    "    \n",
    "    # Обучение на признаках отобранных LASSO\n",
    "    knn_gs.fit(X_lasso_train, y_train)\n",
    "    knn_result['lasso'].append(metrics.fbeta_score(y_test, knn_gs.predict(X_lasso_test), beta=g_fscore_beta))\n",
    "    \n",
    "    svc_param_grid = {\n",
    "        'C' : [10, 1.0, 0.7, 0.45, 0.3, 1e-2, 1e-3, 1e-4]\n",
    "    }\n",
    "\n",
    "    svc_gs = model_selection.GridSearchCV(svm.LinearSVC(class_weight='balanced', \n",
    "                                                        max_iter=25000, random_state=g_random_state),\n",
    "                                          svc_param_grid, scoring=fbeta_cv_metric, \n",
    "                                          cv=3, n_jobs=-1, verbose=0, iid=True)\n",
    "    \n",
    "    # Обучение на признаках отобранных DFS\n",
    "    svc_gs.fit(X_dfs_train, y_train)\n",
    "    svc_result['dfs'].append(metrics.fbeta_score(y_test, svc_gs.predict(X_dfs_test), beta=g_fscore_beta))\n",
    "    \n",
    "    # Обучение на признаках отобранных RandomForest\n",
    "    svc_gs.fit(X_rf_train, y_train)\n",
    "    svc_result['rf'].append(metrics.fbeta_score(y_test, svc_gs.predict(X_rf_test), beta=g_fscore_beta))\n",
    "    \n",
    "    # Обучение на признаках отобранных LASSO\n",
    "    svc_gs.fit(X_lasso_train, y_train)\n",
    "    svc_result['lasso'].append(metrics.fbeta_score(y_test, svc_gs.predict(X_lasso_test), beta=g_fscore_beta))"
   ]
  },
  {
   "cell_type": "code",
   "execution_count": 15,
   "metadata": {},
   "outputs": [
    {
     "data": {
      "image/png": "[encoded data removed]",
      "text/plain": [
       "<Figure size 720x864 with 2 Axes>"
      ]
     },
     "metadata": {
      "needs_background": "light"
     },
     "output_type": "display_data"
    }
   ],
   "source": [
    "fig = plt.figure(figsize=(10, 12))\n",
    "fig.tight_layout()\n",
    "fig.subplots_adjust(top=0.9)\n",
    "\n",
    "ax1 = fig.add_subplot(211)\n",
    "ax1.plot(num_selected_features, knn_result['dfs'], label='DFS')\n",
    "ax1.plot(num_selected_features, knn_result['rf'], label='Random Forest')\n",
    "ax1.plot(num_selected_features, knn_result['lasso'], label='LASSO')\n",
    "ax1.set_xlabel('Количество отбираемых признаков', fontsize=13)\n",
    "ax1.set_ylabel('F score', fontsize=13)\n",
    "ax1.set_title('KNN', fontsize=15)\n",
    "ax1.legend(fontsize=12, title='Метод отбора признаков')\n",
    "ax1.grid()\n",
    "\n",
    "ax2 = fig.add_subplot(212)\n",
    "ax2.plot(num_selected_features, svc_result['dfs'], label='DFS')\n",
    "ax2.plot(num_selected_features, svc_result['rf'], label='Random Forest')\n",
    "ax2.plot(num_selected_features, svc_result['lasso'], label='LASSO')\n",
    "ax2.set_xlabel('Количество отбираемых признаков', fontsize=13)\n",
    "ax2.set_ylabel('F score', fontsize=13)\n",
    "ax2.set_title('SVM', fontsize=15)\n",
    "ax2.legend(fontsize=12, title='Метод отбора признаков')\n",
    "ax2.grid()\n",
    "\n",
    "plt.savefig('results/merged_results.png')"
   ]
  },
  {
   "cell_type": "markdown",
   "metadata": {},
   "source": [
    "**Максимальная** точность для каждой модели отбора и финальной модели"
   ]
  },
  {
   "cell_type": "code",
   "execution_count": 16,
   "metadata": {},
   "outputs": [
    {
     "name": "stdout",
     "output_type": "stream",
     "text": [
      "+--------------------------------+-----------------------------+-----------------------------+\n",
      "| Модель отбора\\Финальная модель |             kNN             |             SVM             |\n",
      "+--------------------------------+-----------------------------+-----------------------------+\n",
      "|              DFS               | score: 0.83, features: 1300 |  score: 0.85, features: 750 |\n",
      "|               RF               |  score: 0.85, features: 150 | score: 0.85, features: 5000 |\n",
      "|             LASSO              |  score: 0.88, features: 400 |  score: 0.87, features: 600 |\n",
      "+--------------------------------+-----------------------------+-----------------------------+\n",
      "+---------------+-----------------------+\n",
      "| Модель отбора | Время обучения, минут |\n",
      "+---------------+-----------------------+\n",
      "|      DFS      |           55          |\n",
      "|       RF      |         0.0028        |\n",
      "|     LASSO     |         0.0028        |\n",
      "+---------------+-----------------------+\n"
     ]
    }
   ],
   "source": [
    "from prettytable import PrettyTable\n",
    "\n",
    "quality_table = PrettyTable()\n",
    "quality_table.field_names = ['Модель отбора\\Финальная модель', 'kNN', 'SVM']\n",
    "\n",
    "max_knn_dfs = max(knn_result['dfs'])\n",
    "max_knn_dfs_features = num_selected_features[knn_result['dfs'].index(max_knn_dfs)]\n",
    "\n",
    "max_knn_rf = max(knn_result['rf'])\n",
    "max_knn_rf_features = num_selected_features[knn_result['rf'].index(max_knn_rf)]\n",
    "\n",
    "max_knn_lasso = max(knn_result['lasso'])\n",
    "max_knn_lasso_features = num_selected_features[knn_result['lasso'].index(max_knn_lasso)]\n",
    "\n",
    "max_svc_dfs = max(svc_result['dfs'])\n",
    "max_svc_dfs_features = num_selected_features[svc_result['dfs'].index(max_svc_dfs)]\n",
    "\n",
    "max_svc_rf = max(svc_result['rf'])\n",
    "max_svc_rf_features = num_selected_features[svc_result['rf'].index(max_svc_rf)]\n",
    "\n",
    "max_svc_lasso = max(svc_result['lasso'])\n",
    "max_svc_lasso_features = num_selected_features[svc_result['lasso'].index(max_svc_lasso)]\n",
    "\n",
    "quality_table.add_row(['DFS',\n",
    "               f'score: {max_knn_dfs:.2f}, features: {max_knn_dfs_features}',\n",
    "               f'score: {max_svc_dfs:.2f}, features: {max_svc_dfs_features}'])\n",
    "\n",
    "quality_table.add_row(['RF',\n",
    "               f'score: {max_knn_rf:.2f}, features: {max_knn_rf_features}',\n",
    "               f'score: {max_svc_rf:.2f}, features: {max_svc_rf_features}'])\n",
    "\n",
    "quality_table.add_row(['LASSO',\n",
    "               f'score: {max_knn_lasso:.2f}, features: {max_knn_lasso_features}',\n",
    "               f'score: {max_svc_lasso:.2f}, features: {max_svc_lasso_features}'])\n",
    "\n",
    "quality_table.align = 'c'\n",
    "\n",
    "performance_table = PrettyTable()\n",
    "performance_table.field_names = ['Модель отбора', 'Время обучения, минут']\n",
    "\n",
    "performance_table.add_row(['DFS', '55'])\n",
    "performance_table.add_row(['RF', rf_gs.refit_time_ / 60])\n",
    "performance_table.add_row(['LASSO', lasso_gs.refit_time_ / 60])\n",
    "\n",
    "performance_table.align = 'c'\n",
    "performance_table.float_format = '.4'\n",
    "\n",
    "print(quality_table)\n",
    "print(performance_table)\n",
    "\n",
    "with open('results/quality_table.txt', 'w', encoding='utf8') as quality_table_file:\n",
    "    quality_table_file.write(quality_table.get_string())\n",
    "    \n",
    "with open('results/performance_table.txt', 'w', encoding='utf8') as performance_table_file:\n",
    "    performance_table_file.write(performance_table.get_string())"
   ]
  },
  {
   "cell_type": "markdown",
   "metadata": {},
   "source": [
    "## Выводы"
   ]
  },
  {
   "cell_type": "markdown",
   "metadata": {},
   "source": [
    "Как видно из таблицы с лучшими результатами **DFS** выбирает признаки таким образом, что итоговый алгоритм покаывает лучшее качество. Это объясняется тем, что исследуемая модель отбора признаков утроена сложнее, чем традиционные и, таким образом, может обучаться сложным нелинейным закономерностям и фильтровать шумовые признаки.\n",
    "\n",
    "Исследуемая модель имеет на два порядка больше время обучения. Это объясняется отстутствием *GPU* на машине, на которой проводился эксперимент.\n",
    "\n",
    "Подводя итог вышесказаному, можно сказать, что данный подход имеет преимущества по сравнению с традиционными, а время обучения компенсируется более мощным *CPU* и *GPU*. Если данные имеют высокую размерность, имеют сложную структуру и зашумлены, то данный подход более выгоден по сравнению с традиционными."
   ]
  }
 ],
 "metadata": {
  "kernelspec": {
   "display_name": "Python 3",
   "language": "python",
   "name": "python3"
  },
  "language_info": {
   "codemirror_mode": {
    "name": "ipython",
    "version": 3
   },
   "file_extension": ".py",
   "mimetype": "text/x-python",
   "name": "python",
   "nbconvert_exporter": "python",
   "pygments_lexer": "ipython3",
   "version": "3.7.4"
  }
 },
 "nbformat": 4,
 "nbformat_minor": 4
}
